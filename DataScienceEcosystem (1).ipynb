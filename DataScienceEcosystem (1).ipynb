{
 "cells": [
  {
   "cell_type": "markdown",
   "id": "1deed9db-d562-44df-adcf-ee2c13182f52",
   "metadata": {},
   "source": [
    "Data Science Tools and Ecosystem"
   ]
  },
  {
   "cell_type": "markdown",
   "id": "42b015ac-57e3-4a0a-b8cc-1e181644c005",
   "metadata": {},
   "source": [
    "En este cuaderno, se resumen las herramientas y ecosistemas de ciencia de datos."
   ]
  },
  {
   "cell_type": "markdown",
   "id": "e2970e2d-dad3-4ea4-8f9f-5eb5b3557c90",
   "metadata": {},
   "source": [
    "**Objetivos:**\n",
    "\n",
    "- Listar lenguajes populares para Ciencia de Datos  \n",
    "- Identificar herramientas de código abierto usadas en Ciencia de Datos  \n",
    "- Crear expresiones aritméticas simples en Python  \n",
    "- Convertir minutos a horas usando operaciones aritméticas  \n",
    "- Comprender cómo se crean y ejecutan celdas de código y markdown en Jupyter Notebooks\n"
   ]
  },
  {
   "cell_type": "markdown",
   "id": "4b64a0be-8614-4893-8186-960e0dd5d3fb",
   "metadata": {},
   "source": [
    "Algunos de los lenguajes populares que utilizan los científicos de datos son:\n",
    "1 Phyton\n",
    "2 R\n",
    "3 Java "
   ]
  },
  {
   "cell_type": "markdown",
   "id": "b3791855-a09e-45e0-9d92-a05d747cc6a7",
   "metadata": {},
   "source": [
    "Algunas de las bibliotecas comúnmente utilizadas por los científicos de datos incluyen:\n",
    "\n",
    "1. NumPy  \n",
    "2. Pandas  \n",
    "3. Matplotlib  \n",
    "4. Seaborn  \n",
    "5. Scikit-learn\n"
   ]
  },
  {
   "cell_type": "markdown",
   "id": "f1d8571f-7e2a-48b2-b547-20c01ebc9976",
   "metadata": {},
   "source": [
    "| Herramientas de Ciencia de Datos |\n",
    "|----------------------------------|\n",
    "| Jupyter Notebook                 |\n",
    "| RStudio                          |\n",
    "| Apache Spark                     |\n"
   ]
  },
  {
   "cell_type": "markdown",
   "id": "e6752dfd-9ec6-41b8-848a-85e4cef407dd",
   "metadata": {},
   "source": [
    "### A continuación, se presentan algunos ejemplos de evaluación de expresiones aritméticas en Python."
   ]
  },
  {
   "cell_type": "code",
   "execution_count": 3,
   "id": "395144f8-de1c-4962-b53b-83aa99c93c48",
   "metadata": {},
   "outputs": [
    {
     "data": {
      "text/plain": [
       "17"
      ]
     },
     "execution_count": 3,
     "metadata": {},
     "output_type": "execute_result"
    }
   ],
   "source": [
    "# Esta es una expresión aritmética simple para multiplicar y luego sumar enteros\n",
    "(3 * 4) + 5\n"
   ]
  },
  {
   "cell_type": "code",
   "execution_count": 5,
   "id": "5b113345-fddf-44f0-8628-5b4707652937",
   "metadata": {},
   "outputs": [
    {
     "data": {
      "text/plain": [
       "3.3333333333333335"
      ]
     },
     "execution_count": 5,
     "metadata": {},
     "output_type": "execute_result"
    }
   ],
   "source": [
    "# Esto convertirá 200 minutos a horas dividiendo por 60\n",
    "200 / 60\n"
   ]
  },
  {
   "cell_type": "markdown",
   "id": "45118274-f0ae-4cad-b7e3-17978a0752e8",
   "metadata": {},
   "source": [
    "## Autor\n",
    "Adriana Gómez\n"
   ]
  },
  {
   "cell_type": "code",
   "execution_count": null,
   "id": "0bfaf5ed-36ee-471d-a8f6-816fe6cc8d95",
   "metadata": {},
   "outputs": [],
   "source": []
  }
 ],
 "metadata": {
  "kernelspec": {
   "display_name": "Python 3 (ipykernel)",
   "language": "python",
   "name": "python3"
  },
  "language_info": {
   "codemirror_mode": {
    "name": "ipython",
    "version": 3
   },
   "file_extension": ".py",
   "mimetype": "text/x-python",
   "name": "python",
   "nbconvert_exporter": "python",
   "pygments_lexer": "ipython3",
   "version": "3.12.8"
  }
 },
 "nbformat": 4,
 "nbformat_minor": 5
}
